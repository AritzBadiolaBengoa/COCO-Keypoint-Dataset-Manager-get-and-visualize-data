{
 "cells": [
  {
   "cell_type": "code",
   "execution_count": 2,
   "metadata": {},
   "outputs": [],
   "source": [
    "import wget\n",
    "import pathlib\n",
    "import subprocess\n",
    "\n",
    "\n",
    "path = str(pathlib.Path().absolute())\n",
    "urlf = \"http://images.cocodataset.org/zips/\"\n",
    "\n",
    "def download_unzip(file_name):\n",
    "    print(\"Downloading \" + file_name)\n",
    "    \n",
    "    wget.download(urlf+file_name, path+file_name)\n",
    "\n",
    "    print(\"Unzipping \" + file_name)\n",
    "    \n",
    "    subprocess.run([\"unzip\", file_name])"
   ]
  },
  {
   "cell_type": "code",
   "execution_count": null,
   "metadata": {},
   "outputs": [],
   "source": []
  }
 ],
 "metadata": {
  "kernelspec": {
   "display_name": "Python 3",
   "language": "python",
   "name": "python3"
  },
  "language_info": {
   "codemirror_mode": {
    "name": "ipython",
    "version": 3
   },
   "file_extension": ".py",
   "mimetype": "text/x-python",
   "name": "python",
   "nbconvert_exporter": "python",
   "pygments_lexer": "ipython3",
   "version": "3.8.2"
  }
 },
 "nbformat": 4,
 "nbformat_minor": 4
}
